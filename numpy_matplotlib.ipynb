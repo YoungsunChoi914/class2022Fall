{
  "nbformat": 4,
  "nbformat_minor": 0,
  "metadata": {
    "kernelspec": {
      "display_name": "Python 3",
      "language": "python",
      "name": "python3"
    },
    "language_info": {
      "codemirror_mode": {
        "name": "ipython",
        "version": 3
      },
      "file_extension": ".py",
      "mimetype": "text/x-python",
      "name": "python",
      "nbconvert_exporter": "python",
      "pygments_lexer": "ipython3",
      "version": "3.7.1"
    },
    "colab": {
      "name": "numpy_matplotlib.ipynb",
      "provenance": [],
      "include_colab_link": true
    }
  },
  "cells": [
    {
      "cell_type": "markdown",
      "metadata": {
        "id": "view-in-github",
        "colab_type": "text"
      },
      "source": [
        "<a href=\"https://colab.research.google.com/github/YoungsunChoi914/class2022Fall/blob/main/numpy_matplotlib.ipynb\" target=\"_parent\"><img src=\"https://colab.research.google.com/assets/colab-badge.svg\" alt=\"Open In Colab\"/></a>"
      ]
    },
    {
      "cell_type": "markdown",
      "metadata": {
        "id": "JcCdLoe_4bY7"
      },
      "source": [
        "### create nd arrays (≈matrices)"
      ]
    },
    {
      "cell_type": "code",
      "metadata": {
        "id": "5ap7xyofShBB"
      },
      "source": [
        "import numpy as np"
      ],
      "execution_count": 1,
      "outputs": []
    },
    {
      "cell_type": "markdown",
      "source": [
        "pandas는 숫자일필요없음. text, 숫자 둘다\n",
        "\n",
        "numpy는 엑셀처럼 생겼는데 숫자만 있는거 -> array (배열)처리\n",
        "\n",
        "숫자 pandas라 생각. \n",
        "\n",
        "근데 numpy는 2차원 이상도 다 됨. \n",
        "\n",
        "2차원으로 된 숫자는 행렬, 3차원 이상의 숫자는 tensor\n",
        "\n",
        "nd array\n",
        "\n",
        "숫자를 다루는 다양한 함수가 들어 있음. "
      ],
      "metadata": {
        "id": "udtVhy4gnrzI"
      }
    },
    {
      "cell_type": "code",
      "metadata": {
        "id": "2rqpSPZCShBC",
        "colab": {
          "base_uri": "https://localhost:8080/"
        },
        "outputId": "8171f4c0-6814-48c8-dbfb-6924090b1153"
      },
      "source": [
        "x = np.array([1,2,3])\n",
        "print(x)\n",
        "print(type(x))\n",
        "print(x.shape)"
      ],
      "execution_count": 2,
      "outputs": [
        {
          "output_type": "stream",
          "name": "stdout",
          "text": [
            "[1 2 3]\n",
            "<class 'numpy.ndarray'>\n",
            "(3,)\n"
          ]
        }
      ]
    },
    {
      "cell_type": "markdown",
      "source": [
        "np의 array 함수를 쓰겠다. "
      ],
      "metadata": {
        "id": "bBdQR4-AodRm"
      }
    },
    {
      "cell_type": "markdown",
      "source": [
        "array: list를 array형식으로 바꿔줌. \n",
        "\n",
        "[1,2,3]-> 이 자체로도 1d array 이긴 함. \n",
        "\n",
        "이 작업이 왜 필요하냐? 저 안에는 string도 들어갈 수 있고, 무조건 숫자라고 가정하지 않음. 숫자가 들어있는 list를 array로 바꿔줘야 찐 숫자구나 인식하게 됨. "
      ],
      "metadata": {
        "id": "i9N8Lr3sl_EY"
      }
    },
    {
      "cell_type": "markdown",
      "source": [
        "생긴건 똑같은데 type을 쳐보면 완전 숫자. numpy.ndarray라 나옴. \n",
        "\n",
        "3개짜리 1d array"
      ],
      "metadata": {
        "id": "AR_dvxsKmgNe"
      }
    },
    {
      "cell_type": "code",
      "source": [
        "x = np.array([[1,2,3],[4,5,6]])\n",
        "print(x)\n",
        "print(type(x))\n",
        "print(x.shape)\n",
        "print(x.ndim)"
      ],
      "metadata": {
        "id": "tSoBH6iunHRu",
        "outputId": "cf2fe253-e0a8-4648-e84f-b37ffe9bf25d",
        "colab": {
          "base_uri": "https://localhost:8080/"
        }
      },
      "execution_count": 3,
      "outputs": [
        {
          "output_type": "stream",
          "name": "stdout",
          "text": [
            "[[1 2 3]\n",
            " [4 5 6]]\n",
            "<class 'numpy.ndarray'>\n",
            "(2, 3)\n",
            "2\n"
          ]
        }
      ]
    },
    {
      "cell_type": "markdown",
      "source": [
        "행이 2개이고, 열이 3개 -->2차원"
      ],
      "metadata": {
        "id": "zZxS0go9nUAX"
      }
    },
    {
      "cell_type": "code",
      "source": [
        "x = np.array([[[1,2,3],[4,5,6]],[[1,2,3],[4,5,6]]])\n",
        "print(x)\n",
        "print(type(x))\n",
        "print(x.shape)\n",
        "print(x.ndim)"
      ],
      "metadata": {
        "id": "LeWcl4Orn87q",
        "outputId": "edee367b-30ec-44e9-80cf-faa832977210",
        "colab": {
          "base_uri": "https://localhost:8080/"
        }
      },
      "execution_count": 4,
      "outputs": [
        {
          "output_type": "stream",
          "name": "stdout",
          "text": [
            "[[[1 2 3]\n",
            "  [4 5 6]]\n",
            "\n",
            " [[1 2 3]\n",
            "  [4 5 6]]]\n",
            "<class 'numpy.ndarray'>\n",
            "(2, 2, 3)\n",
            "3\n"
          ]
        }
      ]
    },
    {
      "cell_type": "code",
      "metadata": {
        "id": "EjC88C75ShBC",
        "colab": {
          "base_uri": "https://localhost:8080/"
        },
        "outputId": "62ce1693-3c10-4342-894a-5f48faa77f88"
      },
      "source": [
        "x = np.arange(0,10,2)\n",
        "print(x)\n",
        "print(type(x))\n",
        "print(x.shape)"
      ],
      "execution_count": 5,
      "outputs": [
        {
          "output_type": "stream",
          "name": "stdout",
          "text": [
            "[0 2 4 6 8]\n",
            "<class 'numpy.ndarray'>\n",
            "(5,)\n"
          ]
        }
      ]
    },
    {
      "cell_type": "markdown",
      "source": [
        "arange 함수\n",
        "\n",
        "하나의 range를 만들어주는 것\n",
        "\n",
        "0부터 10 전까지, 2간격으로\n",
        "\n",
        "1d array"
      ],
      "metadata": {
        "id": "cNhy62NcodVc"
      }
    },
    {
      "cell_type": "code",
      "metadata": {
        "id": "-MwkCEjTShBC",
        "colab": {
          "base_uri": "https://localhost:8080/"
        },
        "outputId": "7eb16794-71c6-4a33-c75c-b5d31009e479"
      },
      "source": [
        "x = np.linspace(0,10,6)\n",
        "print(x)\n",
        "print(type(x))\n",
        "print(x.shape)"
      ],
      "execution_count": 6,
      "outputs": [
        {
          "output_type": "stream",
          "name": "stdout",
          "text": [
            "[ 0.  2.  4.  6.  8. 10.]\n",
            "<class 'numpy.ndarray'>\n",
            "(6,)\n"
          ]
        }
      ]
    },
    {
      "cell_type": "markdown",
      "source": [
        "linear space\n",
        "\n",
        "0부터 10까지, 등분해서 6개의 숫자를 만들어라. "
      ],
      "metadata": {
        "id": "NyHaF8bdoynh"
      }
    },
    {
      "cell_type": "code",
      "metadata": {
        "id": "tjk79SQ27fNv",
        "colab": {
          "base_uri": "https://localhost:8080/"
        },
        "outputId": "011d45ad-a69f-44cb-a08a-4c25b2543af8"
      },
      "source": [
        "x = np.array([[1,2,3], [4,5,6]])\n",
        "print(x)\n",
        "print(type(x))\n",
        "print(x.shape)"
      ],
      "execution_count": 7,
      "outputs": [
        {
          "output_type": "stream",
          "name": "stdout",
          "text": [
            "[[1 2 3]\n",
            " [4 5 6]]\n",
            "<class 'numpy.ndarray'>\n",
            "(2, 3)\n"
          ]
        }
      ]
    },
    {
      "cell_type": "code",
      "metadata": {
        "id": "C1ogg6iZ7yir",
        "colab": {
          "base_uri": "https://localhost:8080/"
        },
        "outputId": "f11c272c-7812-49dd-fcbd-0a0325e05b63"
      },
      "source": [
        "x = np.array([[[1,2,3], [4,5,6]], [[7,8,9], [10,11,12]]])\n",
        "print(x)\n",
        "print(type(x))\n",
        "print(x.shape)"
      ],
      "execution_count": 8,
      "outputs": [
        {
          "output_type": "stream",
          "name": "stdout",
          "text": [
            "[[[ 1  2  3]\n",
            "  [ 4  5  6]]\n",
            "\n",
            " [[ 7  8  9]\n",
            "  [10 11 12]]]\n",
            "<class 'numpy.ndarray'>\n",
            "(2, 2, 3)\n"
          ]
        }
      ]
    },
    {
      "cell_type": "code",
      "metadata": {
        "id": "efgeNHtD8ZlT",
        "colab": {
          "base_uri": "https://localhost:8080/"
        },
        "outputId": "f9cec446-90f4-406c-ace3-96051eaac81b"
      },
      "source": [
        "x = np.ones([2, 2, 3])\n",
        "print(x)\n",
        "print(type(x))\n",
        "print(x.shape)"
      ],
      "execution_count": 9,
      "outputs": [
        {
          "output_type": "stream",
          "name": "stdout",
          "text": [
            "[[[1. 1. 1.]\n",
            "  [1. 1. 1.]]\n",
            "\n",
            " [[1. 1. 1.]\n",
            "  [1. 1. 1.]]]\n",
            "<class 'numpy.ndarray'>\n",
            "(2, 2, 3)\n"
          ]
        }
      ]
    },
    {
      "cell_type": "markdown",
      "source": [
        "2,2,3의 구조로 1이 들어가게 만듦. "
      ],
      "metadata": {
        "id": "LHeOTQOrpGCl"
      }
    },
    {
      "cell_type": "code",
      "metadata": {
        "id": "b_F-ccY08zzl",
        "colab": {
          "base_uri": "https://localhost:8080/"
        },
        "outputId": "4b0677bc-7d93-485c-ac3b-02ea65c29797"
      },
      "source": [
        "x = np.zeros([2, 2, 3])\n",
        "print(x)\n",
        "print(type(x))\n",
        "print(x.shape)\n",
        "x.reshape(3,2,2)"
      ],
      "execution_count": 10,
      "outputs": [
        {
          "output_type": "stream",
          "name": "stdout",
          "text": [
            "[[[0. 0. 0.]\n",
            "  [0. 0. 0.]]\n",
            "\n",
            " [[0. 0. 0.]\n",
            "  [0. 0. 0.]]]\n",
            "<class 'numpy.ndarray'>\n",
            "(2, 2, 3)\n"
          ]
        },
        {
          "output_type": "execute_result",
          "data": {
            "text/plain": [
              "array([[[0., 0.],\n",
              "        [0., 0.]],\n",
              "\n",
              "       [[0., 0.],\n",
              "        [0., 0.]],\n",
              "\n",
              "       [[0., 0.],\n",
              "        [0., 0.]]])"
            ]
          },
          "metadata": {},
          "execution_count": 10
        }
      ]
    },
    {
      "cell_type": "markdown",
      "source": [
        "reshape. 구조 바꾸기\n",
        "\n",
        "(3,4)로 3차원을 2차원으로 reshape 할 수 도 있다. 숫자 개수만 맞으면\n",
        "\n",
        "reshape 도 메소드 일종"
      ],
      "metadata": {
        "id": "kw4v6oyipQrc"
      }
    },
    {
      "cell_type": "markdown",
      "metadata": {
        "id": "0hQuDJ5g9gpE"
      },
      "source": [
        "### create random numbers"
      ]
    },
    {
      "cell_type": "code",
      "source": [
        "np.random.normal(0, 1, [2,3,4])"
      ],
      "metadata": {
        "id": "pCVnElBgan70",
        "outputId": "0eed8561-b134-4e1a-c38d-77b8dab78f50",
        "colab": {
          "base_uri": "https://localhost:8080/"
        }
      },
      "execution_count": 11,
      "outputs": [
        {
          "output_type": "execute_result",
          "data": {
            "text/plain": [
              "array([[[ 0.28860279,  0.24851663, -0.8220687 , -1.38082018],\n",
              "        [ 0.75222108, -1.05448662,  0.93985863,  0.04707571],\n",
              "        [ 0.36943078,  1.19659807,  1.1303952 , -0.78699857]],\n",
              "\n",
              "       [[ 0.88784778,  0.49580356,  0.32234726, -0.32622068],\n",
              "        [-1.10943944, -0.44983371,  0.03451965, -0.83446988],\n",
              "        [ 0.297595  ,  1.3818874 ,  0.51175659,  0.56465175]]])"
            ]
          },
          "metadata": {},
          "execution_count": 11
        }
      ]
    },
    {
      "cell_type": "markdown",
      "source": [
        "normal distribution을 뿌려주는 함수. \n",
        "\n",
        "평균값, standard diviation, 구조\n",
        "\n",
        "2x3x4개의 숫자를 맘대로 넣을 것. "
      ],
      "metadata": {
        "id": "4j2XIldqp-fO"
      }
    },
    {
      "cell_type": "code",
      "metadata": {
        "id": "QRatmkx79otL"
      },
      "source": [
        "import matplotlib.pyplot as plt"
      ],
      "execution_count": 12,
      "outputs": []
    },
    {
      "cell_type": "markdown",
      "source": [
        "matplotlib 는 plot 만들어주는 기본 패키지\n",
        "\n",
        "matplotlib안의 pyplot폴더까지 불러서 이걸 plt라고 사용하겠다"
      ],
      "metadata": {
        "id": "MX72VUROqTVn"
      }
    },
    {
      "cell_type": "code",
      "metadata": {
        "id": "z1oOAB6dShBD",
        "colab": {
          "base_uri": "https://localhost:8080/",
          "height": 829
        },
        "outputId": "a1e73a76-6026-45dd-8efa-e24d805ab73f"
      },
      "source": [
        "x = np.random.normal(0, 1, 100)\n",
        "print(x)\n",
        "plt.hist(x, bins=10)"
      ],
      "execution_count": 13,
      "outputs": [
        {
          "output_type": "stream",
          "name": "stdout",
          "text": [
            "[ 1.80397100e+00  6.72374154e-01 -4.19536176e-01 -4.34097966e-01\n",
            " -2.56906233e-01  1.62966341e+00 -2.54993087e-01  1.36181866e+00\n",
            " -8.08040144e-02  5.66838351e-01  6.37000908e-01  2.00932390e+00\n",
            "  1.27224406e-01 -3.58022958e-01 -7.66926701e-01  6.27244892e-01\n",
            " -2.86182448e-01  7.70586202e-02  2.35905922e+00 -1.16722266e+00\n",
            " -2.05200899e+00 -6.01276662e-01  8.13443763e-01  7.11091635e-01\n",
            "  1.25488901e+00  6.34591840e-02 -1.04140134e+00  1.38239187e+00\n",
            "  8.55942179e-01  1.56913893e+00 -2.83035512e-01  8.39812357e-01\n",
            "  1.19483124e+00  8.53865560e-01  8.13824398e-01  1.55213465e+00\n",
            " -5.74741454e-01 -7.69048917e-01 -1.36220293e+00 -6.03259291e-01\n",
            "  6.30700518e-01  3.96139489e-01  3.11759551e-01 -7.93101092e-01\n",
            " -3.81319203e-01 -2.67502667e-01  4.50042482e-01  7.24677727e-01\n",
            "  4.68786619e-01  3.61077954e-01  5.82288481e-01  1.31729569e-01\n",
            " -1.32683578e+00 -1.12368748e-01 -1.13141609e+00  1.16811418e+00\n",
            " -7.28748880e-01 -1.08832314e+00 -2.97527871e-01  2.86165772e-01\n",
            "  1.08321568e+00 -1.03269195e+00 -2.02472186e+00 -6.14622269e-01\n",
            " -4.86065037e-01  7.88383959e-01 -1.25767513e+00 -7.72944130e-01\n",
            "  7.35374411e-01  1.93103982e+00 -3.49465761e-01 -4.06889282e-01\n",
            "  1.76076285e+00  8.63339319e-01 -1.17255040e+00 -2.68301304e-01\n",
            " -7.26745555e-01 -1.64688785e-03 -1.14865752e-01 -1.52277851e-01\n",
            " -4.29744027e-02 -4.95013892e-01  6.02240791e-01  1.49773058e+00\n",
            " -2.08823423e-01  7.78556812e-02  2.08547703e+00 -8.68846875e-01\n",
            " -1.42944315e+00  1.32197260e-01  7.82917864e-02  7.69442530e-01\n",
            "  5.95070232e-01  1.40750544e-04 -1.95394639e-01 -3.50900947e-01\n",
            " -7.47631158e-02  1.97220142e+00  4.90161604e-01 -1.90609866e-01]\n"
          ]
        },
        {
          "output_type": "execute_result",
          "data": {
            "text/plain": [
              "(array([ 2.,  5., 11., 15., 24.,  9., 17.,  6.,  6.,  5.]),\n",
              " array([-2.05200899, -1.61090217, -1.16979535, -0.72868853, -0.28758171,\n",
              "         0.15352511,  0.59463193,  1.03573875,  1.47684558,  1.9179524 ,\n",
              "         2.35905922]),\n",
              " <a list of 10 Patch objects>)"
            ]
          },
          "metadata": {},
          "execution_count": 13
        },
        {
          "output_type": "display_data",
          "data": {
            "text/plain": [
              "<Figure size 432x288 with 1 Axes>"
            ],
            "image/png": "[encoded data removed]"
          },
          "metadata": {
            "needs_background": "light"
          }
        }
      ]
    },
    {
      "cell_type": "markdown",
      "source": [
        "그냥 100-> 100개짜리 1d array를 만들어라.\n",
        "\n",
        "위의 normal distribution을 따라서\n",
        "\n",
        "e는 무시, x 10의 0승 / x10의 -2승 등을 의미\n",
        "\n",
        "컴퓨터가 처리해야하는 자릿수가 정해져 있어서 맞추기 위해 이러한 표현법을 씀\n",
        "\n",
        "hist 폴더. bins 몇개 구간으로 나눌건지.\n",
        "\n",
        "막대기 왼쪽 값은 count니까 빈도니까 0이상의 정수만 가능. 소수나 음수가 될 수는 없음. 빈도 다 합치면 전체 값 됨. 자연수만 되는건 아님. 0이 있으니까\n",
        "\n",
        "숫자를 늘리고, bin을 늘리면 더 섬세한? 그래프가 나옴"
      ],
      "metadata": {
        "id": "EmFuc63pqkZB"
      }
    },
    {
      "cell_type": "markdown",
      "metadata": {
        "id": "G0exvwBbShBE"
      },
      "source": [
        "### generate a sine curve"
      ]
    },
    {
      "cell_type": "code",
      "metadata": {
        "id": "HgQmRXzMShBE",
        "colab": {
          "base_uri": "https://localhost:8080/",
          "height": 282
        },
        "outputId": "a266cc4f-3373-43c7-d8a8-3290c8bf4248"
      },
      "source": [
        "plt.figure()\n",
        "\n",
        "theta1 = np.linspace(0, 2*np.pi, 100)\n",
        "s1 = np.sin(theta1)\n",
        "theta2 = np.linspace(0, 2*np.pi, 100) + np.pi/2\n",
        "s2 = np.sin(theta2)\n",
        "\n",
        "plt.subplot(2, 1, 1) # (rows, columns, panel number)\n",
        "plt.plot(theta1, s1, '.')\n",
        "plt.subplot(2, 1, 2) # (rows, columns, panel number)\n",
        "plt.plot(theta2, s2, '.')"
      ],
      "execution_count": null,
      "outputs": [
        {
          "output_type": "execute_result",
          "data": {
            "text/plain": [
              "[<matplotlib.lines.Line2D at 0x7f3b55111d90>]"
            ]
          },
          "metadata": {},
          "execution_count": 8
        },
        {
          "output_type": "display_data",
          "data": {
            "text/plain": [
              "<Figure size 432x288 with 2 Axes>"
            ],
            "image/png": "[encoded data removed]"
          },
          "metadata": {
            "needs_background": "light"
          }
        }
      ]
    },
    {
      "cell_type": "markdown",
      "source": [
        "0부터 2ㅠ까지 (np.pi가 파이) 등간격으로 100개의 값으로 나누어라. \n",
        "\n",
        "사인함수는 radian값만 받음. 위의 100개 각도를 사인함수에 넣음. \n",
        "\n",
        "theta는 100개 숫자가 있는 1d array (100, ) 이 형태 \n",
        "\n",
        "파이/2 -> 90도를 더함. 90도만큼 이동시킨것\n",
        "\n",
        "plt.figure하면 그림이 나옴. \n",
        "\n",
        "(2,1) 으로 만드는 것중에 첫번째 자리에 만들어라\n",
        "\n",
        "90도가 차이가 나면, 두개를 innerproduct했을 때 코사인90도가 나와 값이 0이 됨. \n",
        "\n",
        "correlation coeficient (r값)과 같다. \n",
        "\n",
        "innerproduct와 r이 똑같다는게 아니라, inner product 안에 들어있는 코사인 값과 r값이 똑같다. "
      ],
      "metadata": {
        "id": "3Qai1CnxsQWO"
      }
    },
    {
      "cell_type": "code",
      "metadata": {
        "id": "TuH489v9BvQ7",
        "colab": {
          "base_uri": "https://localhost:8080/"
        },
        "outputId": "80f021a2-50ec-4eb5-aed7-4faf9a306496"
      },
      "source": [
        "np.corrcoef(s1,s2)"
      ],
      "execution_count": null,
      "outputs": [
        {
          "output_type": "execute_result",
          "data": {
            "text/plain": [
              "array([[1.00000000e+00, 2.41915449e-17],\n",
              "       [2.41915449e-17, 1.00000000e+00]])"
            ]
          },
          "metadata": {},
          "execution_count": 11
        }
      ]
    },
    {
      "cell_type": "markdown",
      "source": [
        "길이가 똑같은 벡터 두개를 corrcoef 해주면 됨. \n",
        "\n",
        "2.~~~의 10의 -17승 --> 사실상 거의 0에 가까운 값이라 보면 됨. \n",
        "\n",
        "s1과 자기자신, s1과 s2, s2와 자기자신, s2와 s1의 correlation값을 구해줌. 4개 값"
      ],
      "metadata": {
        "id": "u3o1-T7CuEHQ"
      }
    }
  ]
}