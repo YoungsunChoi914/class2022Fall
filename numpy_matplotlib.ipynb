{
  "nbformat": 4,
  "nbformat_minor": 0,
  "metadata": {
    "kernelspec": {
      "display_name": "Python 3",
      "language": "python",
      "name": "python3"
    },
    "language_info": {
      "codemirror_mode": {
        "name": "ipython",
        "version": 3
      },
      "file_extension": ".py",
      "mimetype": "text/x-python",
      "name": "python",
      "nbconvert_exporter": "python",
      "pygments_lexer": "ipython3",
      "version": "3.7.1"
    },
    "colab": {
      "name": "numpy_matplotlib.ipynb",
      "provenance": [],
      "include_colab_link": true
    }
  },
  "cells": [
    {
      "cell_type": "markdown",
      "metadata": {
        "id": "view-in-github",
        "colab_type": "text"
      },
      "source": [
        "<a href=\"https://colab.research.google.com/github/YoungsunChoi914/class2022Fall/blob/main/numpy_matplotlib.ipynb\" target=\"_parent\"><img src=\"https://colab.research.google.com/assets/colab-badge.svg\" alt=\"Open In Colab\"/></a>"
      ]
    },
    {
      "cell_type": "markdown",
      "metadata": {
        "id": "JcCdLoe_4bY7"
      },
      "source": [
        "### create nd arrays (≈matrices)"
      ]
    },
    {
      "cell_type": "code",
      "metadata": {
        "id": "5ap7xyofShBB"
      },
      "source": [
        "import numpy as np"
      ],
      "execution_count": 1,
      "outputs": []
    },
    {
      "cell_type": "code",
      "metadata": {
        "id": "2rqpSPZCShBC",
        "colab": {
          "base_uri": "https://localhost:8080/"
        },
        "outputId": "2a668859-108b-45c6-f485-1d5ad5e9b404"
      },
      "source": [
        "x = np.array([1,2,3])\n",
        "print(x)\n",
        "print(type(x))\n",
        "print(x.shape)"
      ],
      "execution_count": 2,
      "outputs": [
        {
          "output_type": "stream",
          "name": "stdout",
          "text": [
            "[1 2 3]\n",
            "<class 'numpy.ndarray'>\n",
            "(3,)\n"
          ]
        }
      ]
    },
    {
      "cell_type": "markdown",
      "source": [
        "array: list를 array형식으로 바꿔줌. \n",
        "\n",
        "[1,2,3]-> 이 자체로도 1d array 이긴 함. \n",
        "\n",
        "이 작업이 왜 필요하냐? 저 안에는 string도 들어갈 수 있고, 무조건 숫자라고 가정하지 않음. 숫자ㅏ가 들어있는 list를 array로 바ㅜ거줘야 찐 숫자구나 인식하게 됨. "
      ],
      "metadata": {
        "id": "i9N8Lr3sl_EY"
      }
    },
    {
      "cell_type": "markdown",
      "source": [
        "생긴건 똑같은데 type을 쳐보면 완전 숫자. numpy.ndarray라 나옴. "
      ],
      "metadata": {
        "id": "AR_dvxsKmgNe"
      }
    },
    {
      "cell_type": "code",
      "source": [
        "x = np.array([[1,2,3],[4,5,6]])\n",
        "print(x)\n",
        "print(type(x))\n",
        "print(x.shape)\n",
        "print(x.ndim)"
      ],
      "metadata": {
        "id": "tSoBH6iunHRu",
        "outputId": "5c43bd1c-2d6a-47d3-fb62-291d9512fe11",
        "colab": {
          "base_uri": "https://localhost:8080/"
        }
      },
      "execution_count": 5,
      "outputs": [
        {
          "output_type": "stream",
          "name": "stdout",
          "text": [
            "[[1 2 3]\n",
            " [4 5 6]]\n",
            "<class 'numpy.ndarray'>\n",
            "(2, 3)\n",
            "2\n"
          ]
        }
      ]
    },
    {
      "cell_type": "markdown",
      "source": [
        "행이 2개이고, 열이 3개 -->2차원"
      ],
      "metadata": {
        "id": "zZxS0go9nUAX"
      }
    },
    {
      "cell_type": "code",
      "source": [
        "x = np.array([[[1,2,3],[4,5,6]],[[1,2,3],[4,5,6]]])\n",
        "print(x)\n",
        "print(type(x))\n",
        "print(x.shape)\n",
        "print(x.ndim)"
      ],
      "metadata": {
        "id": "LeWcl4Orn87q",
        "outputId": "0c3343eb-0e93-49a7-e4f6-0e936eb31667",
        "colab": {
          "base_uri": "https://localhost:8080/"
        }
      },
      "execution_count": 6,
      "outputs": [
        {
          "output_type": "stream",
          "name": "stdout",
          "text": [
            "[[[1 2 3]\n",
            "  [4 5 6]]\n",
            "\n",
            " [[1 2 3]\n",
            "  [4 5 6]]]\n",
            "<class 'numpy.ndarray'>\n",
            "(2, 2, 3)\n",
            "3\n"
          ]
        }
      ]
    },
    {
      "cell_type": "code",
      "metadata": {
        "id": "EjC88C75ShBC",
        "colab": {
          "base_uri": "https://localhost:8080/"
        },
        "outputId": "a08254e9-7f53-435e-dd0f-865c2ceb1db7"
      },
      "source": [
        "x = np.arange(0,10,2)\n",
        "print(x)\n",
        "print(type(x))\n",
        "print(x.shape)"
      ],
      "execution_count": 7,
      "outputs": [
        {
          "output_type": "stream",
          "name": "stdout",
          "text": [
            "[0 2 4 6 8]\n",
            "<class 'numpy.ndarray'>\n",
            "(5,)\n"
          ]
        }
      ]
    },
    {
      "cell_type": "markdown",
      "source": [
        "arange 함수 하나의 range를 만들어주는 것\n",
        "\n",
        "0부터 10 전까지, 2간격으로\n",
        "\n",
        "1d array"
      ],
      "metadata": {
        "id": "cNhy62NcodVc"
      }
    },
    {
      "cell_type": "code",
      "metadata": {
        "id": "-MwkCEjTShBC",
        "colab": {
          "base_uri": "https://localhost:8080/"
        },
        "outputId": "6c7749ab-e5a6-49a3-cae5-5980c956ea3b"
      },
      "source": [
        "x = np.linspace(0,10,6)\n",
        "print(x)\n",
        "print(type(x))\n",
        "print(x.shape)"
      ],
      "execution_count": 8,
      "outputs": [
        {
          "output_type": "stream",
          "name": "stdout",
          "text": [
            "[ 0.  2.  4.  6.  8. 10.]\n",
            "<class 'numpy.ndarray'>\n",
            "(6,)\n"
          ]
        }
      ]
    },
    {
      "cell_type": "markdown",
      "source": [
        "0부터 10까지, 등분해서 6개의 숫자를 만들어라. "
      ],
      "metadata": {
        "id": "NyHaF8bdoynh"
      }
    },
    {
      "cell_type": "code",
      "metadata": {
        "id": "tjk79SQ27fNv",
        "colab": {
          "base_uri": "https://localhost:8080/"
        },
        "outputId": "d2f20c9e-a015-4bcf-f9e9-3a06f985c9ce"
      },
      "source": [
        "x = np.array([[1,2,3], [4,5,6]])\n",
        "print(x)\n",
        "print(type(x))\n",
        "print(x.shape)"
      ],
      "execution_count": 9,
      "outputs": [
        {
          "output_type": "stream",
          "name": "stdout",
          "text": [
            "[[1 2 3]\n",
            " [4 5 6]]\n",
            "<class 'numpy.ndarray'>\n",
            "(2, 3)\n"
          ]
        }
      ]
    },
    {
      "cell_type": "code",
      "metadata": {
        "id": "C1ogg6iZ7yir",
        "colab": {
          "base_uri": "https://localhost:8080/"
        },
        "outputId": "38e71ca4-937e-4d95-d4d6-de70775b0f7a"
      },
      "source": [
        "x = np.array([[[1,2,3], [4,5,6]], [[7,8,9], [10,11,12]]])\n",
        "print(x)\n",
        "print(type(x))\n",
        "print(x.shape)"
      ],
      "execution_count": 10,
      "outputs": [
        {
          "output_type": "stream",
          "name": "stdout",
          "text": [
            "[[[ 1  2  3]\n",
            "  [ 4  5  6]]\n",
            "\n",
            " [[ 7  8  9]\n",
            "  [10 11 12]]]\n",
            "<class 'numpy.ndarray'>\n",
            "(2, 2, 3)\n"
          ]
        }
      ]
    },
    {
      "cell_type": "code",
      "metadata": {
        "id": "efgeNHtD8ZlT",
        "colab": {
          "base_uri": "https://localhost:8080/"
        },
        "outputId": "78092260-58e3-4b12-dd25-acb8ca59c872"
      },
      "source": [
        "x = np.ones([2, 2, 3])\n",
        "print(x)\n",
        "print(type(x))\n",
        "print(x.shape)"
      ],
      "execution_count": 11,
      "outputs": [
        {
          "output_type": "stream",
          "name": "stdout",
          "text": [
            "[[[1. 1. 1.]\n",
            "  [1. 1. 1.]]\n",
            "\n",
            " [[1. 1. 1.]\n",
            "  [1. 1. 1.]]]\n",
            "<class 'numpy.ndarray'>\n",
            "(2, 2, 3)\n"
          ]
        }
      ]
    },
    {
      "cell_type": "markdown",
      "source": [
        "2,2,3의 구조로 1이 들어가게 만듦. "
      ],
      "metadata": {
        "id": "LHeOTQOrpGCl"
      }
    },
    {
      "cell_type": "code",
      "metadata": {
        "id": "b_F-ccY08zzl",
        "colab": {
          "base_uri": "https://localhost:8080/"
        },
        "outputId": "fee09fe7-ef83-41e8-a0ac-a5d1c438e06c"
      },
      "source": [
        "x = np.zeros([2, 2, 3])\n",
        "print(x)\n",
        "print(type(x))\n",
        "print(x.shape)\n",
        "x.reshape(3,2,2)"
      ],
      "execution_count": 12,
      "outputs": [
        {
          "output_type": "stream",
          "name": "stdout",
          "text": [
            "[[[0. 0. 0.]\n",
            "  [0. 0. 0.]]\n",
            "\n",
            " [[0. 0. 0.]\n",
            "  [0. 0. 0.]]]\n",
            "<class 'numpy.ndarray'>\n",
            "(2, 2, 3)\n"
          ]
        },
        {
          "output_type": "execute_result",
          "data": {
            "text/plain": [
              "array([[[0., 0.],\n",
              "        [0., 0.]],\n",
              "\n",
              "       [[0., 0.],\n",
              "        [0., 0.]],\n",
              "\n",
              "       [[0., 0.],\n",
              "        [0., 0.]]])"
            ]
          },
          "metadata": {},
          "execution_count": 12
        }
      ]
    },
    {
      "cell_type": "markdown",
      "source": [
        "reshape. 구조 바꾸기\n",
        "\n",
        "reshape 도 메소드 일종"
      ],
      "metadata": {
        "id": "kw4v6oyipQrc"
      }
    },
    {
      "cell_type": "markdown",
      "metadata": {
        "id": "0hQuDJ5g9gpE"
      },
      "source": [
        "### create random numbers"
      ]
    },
    {
      "cell_type": "code",
      "source": [
        "np.random.normal(0, 1, [2,3,4])"
      ],
      "metadata": {
        "id": "pCVnElBgan70",
        "outputId": "b06de733-6380-4b28-870b-61ddb453ad8a",
        "colab": {
          "base_uri": "https://localhost:8080/"
        }
      },
      "execution_count": null,
      "outputs": [
        {
          "output_type": "execute_result",
          "data": {
            "text/plain": [
              "array([[[ 0.28610219, -0.7264868 , -0.50719279,  1.04473795],\n",
              "        [-2.6269445 ,  0.80373735, -3.94639222, -0.11259909],\n",
              "        [-0.271832  , -1.03545502, -0.11481238, -0.80041025]],\n",
              "\n",
              "       [[-0.94959226,  1.11390672, -0.47629241, -1.43499953],\n",
              "        [ 1.01427831,  0.93052177, -0.51619177,  1.99354224],\n",
              "        [-0.68265827,  0.97492243, -0.33173391,  0.0293543 ]]])"
            ]
          },
          "metadata": {},
          "execution_count": 5
        }
      ]
    },
    {
      "cell_type": "markdown",
      "source": [
        "normal distribution을 뿌려주는 함수. \n",
        "\n",
        "평균값, standard diviation, 구조\n",
        "\n",
        "2x3x4개의 숫자를 맘대로 넣을 것. "
      ],
      "metadata": {
        "id": "4j2XIldqp-fO"
      }
    },
    {
      "cell_type": "code",
      "metadata": {
        "id": "QRatmkx79otL"
      },
      "source": [
        "import matplotlib.pyplot as plt"
      ],
      "execution_count": 13,
      "outputs": []
    },
    {
      "cell_type": "markdown",
      "source": [
        "matplotlibdksdml pyplot폴더까지 불러서 이걸 plt라고 사용하겠다"
      ],
      "metadata": {
        "id": "MX72VUROqTVn"
      }
    },
    {
      "cell_type": "code",
      "metadata": {
        "id": "z1oOAB6dShBD",
        "colab": {
          "base_uri": "https://localhost:8080/",
          "height": 826
        },
        "outputId": "75970301-92d0-4b6c-aac5-215d2e4437b4"
      },
      "source": [
        "x = np.random.normal(0, 1, 100)\n",
        "print(x)\n",
        "plt.hist(x, bins=10)"
      ],
      "execution_count": 14,
      "outputs": [
        {
          "output_type": "stream",
          "name": "stdout",
          "text": [
            "[-9.86503724e-02 -1.23851117e+00  1.11132191e+00 -8.84118393e-01\n",
            " -9.07795719e-01  3.57065863e-01 -6.92200069e-01  1.14250795e-03\n",
            " -5.42332907e-01 -7.71455607e-01 -3.76340800e-01 -1.06434334e+00\n",
            " -8.56270009e-01 -4.12908082e-01  4.60265182e-01  6.18653460e-01\n",
            "  1.32426085e+00 -1.02664298e+00  1.55458661e+00 -9.13685993e-01\n",
            " -3.26328976e-01  1.45846979e+00 -1.01002220e+00 -1.03160160e+00\n",
            " -1.24338948e+00  5.36461492e-01 -1.89913793e-01 -8.06462747e-01\n",
            " -1.54084316e+00 -5.95303092e-01 -2.46584162e+00  1.98864547e-02\n",
            "  9.94455339e-01 -4.67855460e-01  1.69107742e+00 -8.49694838e-01\n",
            " -9.59968116e-01  9.02128711e-01 -1.51873707e+00  4.12489216e-01\n",
            "  5.59571400e-02  1.65170057e-01  5.23355769e-01 -5.17873254e-02\n",
            "  1.58973001e-01 -1.61372066e+00 -5.39001287e-01  1.30032931e+00\n",
            " -9.74171453e-01  7.04830397e-01 -5.81841520e-01 -1.55361705e+00\n",
            " -3.95745868e-01  2.55284394e-01  2.88475794e-01 -1.87029680e-01\n",
            "  2.08996911e-01  9.32968392e-01  9.26343784e-01  2.04312591e-01\n",
            "  8.37765992e-01 -4.86057610e-01  9.13698538e-01 -5.67980326e-01\n",
            "  6.30915172e-01 -5.54290530e-01 -4.35698398e-01 -4.99533608e-01\n",
            " -1.90016950e-01  1.29702736e-01  5.34550828e-01 -8.82658192e-01\n",
            " -1.63253791e+00 -5.32623072e-01 -1.27945465e+00  3.35653063e-01\n",
            "  1.33978069e-01  1.35222974e-01 -8.09028994e-02 -1.24649175e+00\n",
            "  1.66755938e-01 -1.62177826e+00  5.80166338e-01 -7.62246756e-01\n",
            "  4.44340603e-02 -5.01022767e-01  9.83065257e-01 -2.09430726e-01\n",
            " -1.41995679e+00  3.52238060e-01  4.04440250e-01 -1.95868764e-01\n",
            " -2.15020874e+00 -1.04731211e-01  7.26245007e-02  2.60071178e-01\n",
            "  3.77226763e-01 -1.24921053e+00 -7.36174291e-01  8.95096715e-02]\n"
          ]
        },
        {
          "output_type": "execute_result",
          "data": {
            "text/plain": [
              "(array([ 2.,  0., 12., 13., 18., 13., 21.,  9.,  7.,  5.]),\n",
              " array([-2.46584162, -2.05014971, -1.63445781, -1.21876591, -0.803074  ,\n",
              "        -0.3873821 ,  0.0283098 ,  0.44400171,  0.85969361,  1.27538552,\n",
              "         1.69107742]),\n",
              " <a list of 10 Patch objects>)"
            ]
          },
          "metadata": {},
          "execution_count": 14
        },
        {
          "output_type": "display_data",
          "data": {
            "text/plain": [
              "<Figure size 432x288 with 1 Axes>"
            ],
            "image/png": "[encoded data removed]"
          },
          "metadata": {
            "needs_background": "light"
          }
        }
      ]
    },
    {
      "cell_type": "markdown",
      "source": [
        "그냥 100-> 100개짜리 1d array를 만들어라.\n",
        "\n",
        "위의 normal distribution을 따라서\n",
        "\n",
        "e는 무시, x 10의 0승 / x10의 -2승 등을 의미\n",
        "\n",
        "컴퓨터가 처리해야하는걸 딱 맞추기 위해 이러한 표현법을 씀\n",
        "\n",
        "hist 폴더. bins 몇개 구간으로 나눌건지.\n",
        "\n",
        "막대기 왼쪽 값은 count니까 빈도니까 0이상의 정수만 가능. 소수나 음수가 될 수는 없음. 빈도 다 합치면 전체 값 됨. "
      ],
      "metadata": {
        "id": "EmFuc63pqkZB"
      }
    },
    {
      "cell_type": "markdown",
      "metadata": {
        "id": "G0exvwBbShBE"
      },
      "source": [
        "### generate a sine curve"
      ]
    },
    {
      "cell_type": "code",
      "metadata": {
        "id": "HgQmRXzMShBE",
        "colab": {
          "base_uri": "https://localhost:8080/",
          "height": 282
        },
        "outputId": "a266cc4f-3373-43c7-d8a8-3290c8bf4248"
      },
      "source": [
        "plt.figure()\n",
        "\n",
        "theta1 = np.linspace(0, 2*np.pi, 100)\n",
        "s1 = np.sin(theta1)\n",
        "theta2 = np.linspace(0, 2*np.pi, 100) + np.pi/2\n",
        "s2 = np.sin(theta2)\n",
        "\n",
        "plt.subplot(2, 1, 1) # (rows, columns, panel number)\n",
        "plt.plot(theta1, s1, '.')\n",
        "plt.subplot(2, 1, 2) # (rows, columns, panel number)\n",
        "plt.plot(theta2, s2, '.')"
      ],
      "execution_count": null,
      "outputs": [
        {
          "output_type": "execute_result",
          "data": {
            "text/plain": [
              "[<matplotlib.lines.Line2D at 0x7f3b55111d90>]"
            ]
          },
          "metadata": {},
          "execution_count": 8
        },
        {
          "output_type": "display_data",
          "data": {
            "text/plain": [
              "<Figure size 432x288 with 2 Axes>"
            ],
            "image/png": "[encoded data removed]"
          },
          "metadata": {
            "needs_background": "light"
          }
        }
      ]
    },
    {
      "cell_type": "markdown",
      "source": [
        "0부터 2ㅠ까지 (np.pi가 파이) 등간격으로 100개의 값으로 나누어라. \n",
        "\n",
        "사인함수는 radian값만 받음. 위의 100개 값을 사인함수에 넣음. \n",
        "\n",
        "theta입력으로 들어가는게 100개\n",
        "\n",
        "파이/2 -> 90도를 더함. 90도만큼 이동시킨것\n",
        "\n",
        "plt.figure하면 그림이 나옴. \n",
        "\n",
        "(2,1) 으로 만드는 것중에 첫번째 자리에 만들어라\n",
        "\n",
        "90도가 차이가 나면, innerproduct한게 0이 됨. coe~~ 모르겠음 앞에내용 다시봐야할듯"
      ],
      "metadata": {
        "id": "3Qai1CnxsQWO"
      }
    },
    {
      "cell_type": "code",
      "metadata": {
        "id": "TuH489v9BvQ7",
        "colab": {
          "base_uri": "https://localhost:8080/"
        },
        "outputId": "80f021a2-50ec-4eb5-aed7-4faf9a306496"
      },
      "source": [
        "np.corrcoef(s1,s2)"
      ],
      "execution_count": null,
      "outputs": [
        {
          "output_type": "execute_result",
          "data": {
            "text/plain": [
              "array([[1.00000000e+00, 2.41915449e-17],\n",
              "       [2.41915449e-17, 1.00000000e+00]])"
            ]
          },
          "metadata": {},
          "execution_count": 11
        }
      ]
    },
    {
      "cell_type": "markdown",
      "source": [
        "s1과 자기자신, s1과 s2, s2와 자기자신, s2d와 s1의 correlation값을 구해줌. 4개 값"
      ],
      "metadata": {
        "id": "u3o1-T7CuEHQ"
      }
    }
  ]
}