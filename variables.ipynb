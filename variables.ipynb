{
  "nbformat": 4,
  "nbformat_minor": 0,
  "metadata": {
    "kernelspec": {
      "display_name": "Python 3",
      "language": "python",
      "name": "python3"
    },
    "language_info": {
      "codemirror_mode": {
        "name": "ipython",
        "version": 3
      },
      "file_extension": ".py",
      "mimetype": "text/x-python",
      "name": "python",
      "nbconvert_exporter": "python",
      "pygments_lexer": "ipython3",
      "version": "3.7.1"
    },
    "colab": {
      "name": "variables.ipynb",
      "provenance": [],
      "include_colab_link": true
    }
  },
  "cells": [
    {
      "cell_type": "markdown",
      "metadata": {
        "id": "view-in-github",
        "colab_type": "text"
      },
      "source": [
        "<a href=\"https://colab.research.google.com/github/YoungsunChoi914/class2022Fall/blob/main/variables.ipynb\" target=\"_parent\"><img src=\"https://colab.research.google.com/assets/colab-badge.svg\" alt=\"Open In Colab\"/></a>"
      ]
    },
    {
      "cell_type": "code",
      "metadata": {
        "id": "goAyoU7vRheI",
        "outputId": "93d0031a-0de0-45fe-97c6-eeac4b14e247",
        "colab": {
          "base_uri": "https://localhost:8080/"
        }
      },
      "source": [
        "a = 1; print(type(a))"
      ],
      "execution_count": 1,
      "outputs": [
        {
          "output_type": "stream",
          "name": "stdout",
          "text": [
            "<class 'int'>\n"
          ]
        }
      ]
    },
    {
      "cell_type": "markdown",
      "source": [
        "a는 변수, 오른쪽의 1이 meaning.\n",
        "\n",
        "수학에서의 같다 의미가 아니라 값을 부여한 것. \n",
        "\n",
        "a라는 변수에 1이라는 내용을 할당함\n",
        "\n",
        "옆에서 변수 저장상황 확인 가능\n",
        "\n",
        "정수여서 int"
      ],
      "metadata": {
        "id": "2H43O_aSAjgT"
      }
    },
    {
      "cell_type": "markdown",
      "source": [
        "숫자/글자"
      ],
      "metadata": {
        "id": "gfz7vSXxB5_O"
      }
    },
    {
      "cell_type": "markdown",
      "source": [
        "print는 함수의 일종. 출력해주는 것. 입출력이 있으면 함수. \n",
        "\n",
        "함수 옆에는 반드시 괄호가 있음. "
      ],
      "metadata": {
        "id": "CFSH1FDfDVjG"
      }
    },
    {
      "cell_type": "markdown",
      "source": [
        "type도 함수. 변수의 유형을 알려줌"
      ],
      "metadata": {
        "id": "o1MmDnfSEa1-"
      }
    },
    {
      "cell_type": "markdown",
      "source": [
        "print 안쓴 건 마지막 라인만 자동으로 프린트 됨. "
      ],
      "metadata": {
        "id": "UjeVwA3mE3gk"
      }
    },
    {
      "cell_type": "code",
      "source": [
        "a = '1'\n",
        "b = 2"
      ],
      "metadata": {
        "id": "OfmKLUi4B9yV"
      },
      "execution_count": 7,
      "outputs": []
    },
    {
      "cell_type": "markdown",
      "source": [
        "글자처리는 ''붙여서. string\n",
        "글자 길이에 따라 크기가 1chars, 2chars 로 표시됨"
      ],
      "metadata": {
        "id": "kKN9D_fQCAnV"
      }
    },
    {
      "cell_type": "code",
      "metadata": {
        "id": "txxnoqJuRheJ",
        "outputId": "add8d5a7-85ad-4e2a-9ee0-637de11eb9f6",
        "colab": {
          "base_uri": "https://localhost:8080/"
        }
      },
      "source": [
        "a = 1.1; print(type(a))"
      ],
      "execution_count": 3,
      "outputs": [
        {
          "output_type": "stream",
          "name": "stdout",
          "text": [
            "<class 'float'>\n"
          ]
        }
      ]
    },
    {
      "cell_type": "markdown",
      "source": [
        "소수점 있으면 float"
      ],
      "metadata": {
        "id": "VQcSNFlnCIpM"
      }
    },
    {
      "cell_type": "code",
      "metadata": {
        "id": "SyP0PB86RheL",
        "outputId": "3f3afda9-1134-433e-adfa-3507a584e42c",
        "colab": {
          "base_uri": "https://localhost:8080/"
        }
      },
      "source": [
        "a = '123'; print(type(a)); print(a[1])"
      ],
      "execution_count": 4,
      "outputs": [
        {
          "output_type": "stream",
          "name": "stdout",
          "text": [
            "<class 'str'>\n",
            "2\n"
          ]
        }
      ]
    },
    {
      "cell_type": "markdown",
      "source": [
        "0번째, 1번째, 2번째 순으로 '0번째'부터 시작\n",
        "\n",
        "[]대괄호로 몇번째인지 지정하는 것. "
      ],
      "metadata": {
        "id": "_YInX3fZE_7E"
      }
    },
    {
      "cell_type": "code",
      "metadata": {
        "id": "EKYj0dvIHPo0",
        "outputId": "e39c2ada-f551-4479-d157-0f14525c12aa",
        "colab": {
          "base_uri": "https://localhost:8080/"
        }
      },
      "source": [
        "a = 'hello'; print(type(a)); print(a[1])"
      ],
      "execution_count": 5,
      "outputs": [
        {
          "output_type": "stream",
          "name": "stdout",
          "text": [
            "<class 'str'>\n",
            "e\n"
          ]
        }
      ]
    },
    {
      "cell_type": "markdown",
      "source": [
        "string, list에서 몇번째 기능 활용하는것"
      ],
      "metadata": {
        "id": "U2cBiLIfFMiX"
      }
    },
    {
      "cell_type": "code",
      "source": [
        "c = [2, 3, 'abc', 3.2, b]"
      ],
      "metadata": {
        "id": "YEBYrhnSCrgm"
      },
      "execution_count": 8,
      "outputs": []
    },
    {
      "cell_type": "markdown",
      "source": [
        "list에는 상수, 변수 상관없이 들어갈 수 있음"
      ],
      "metadata": {
        "id": "vP3olHEmCwbl"
      }
    },
    {
      "cell_type": "code",
      "metadata": {
        "id": "Df6PhU-tHXr2",
        "outputId": "7e68233f-b3d2-472d-ed8f-d56e3da5c875",
        "colab": {
          "base_uri": "https://localhost:8080/"
        }
      },
      "source": [
        "a = [1, 2, 3, 4]; print(type(a)); print(a[0])"
      ],
      "execution_count": 9,
      "outputs": [
        {
          "output_type": "stream",
          "name": "stdout",
          "text": [
            "<class 'list'>\n",
            "1\n"
          ]
        }
      ]
    },
    {
      "cell_type": "code",
      "metadata": {
        "id": "DfS-gknCRheL",
        "outputId": "014526c5-810b-47fe-f8f2-4ae519db9737",
        "colab": {
          "base_uri": "https://localhost:8080/"
        }
      },
      "source": [
        "a = [1,'a', [3, '4']]; print(type(a)); print(a[0]); print(a[1]); print(a[2]); print(a[2][1])"
      ],
      "execution_count": 10,
      "outputs": [
        {
          "output_type": "stream",
          "name": "stdout",
          "text": [
            "<class 'list'>\n",
            "1\n",
            "a\n",
            "[3, '4']\n",
            "4\n"
          ]
        }
      ]
    },
    {
      "cell_type": "markdown",
      "source": [
        "a에는 세개의 항목이 있는것. "
      ],
      "metadata": {
        "id": "I7GbRedsFnK-"
      }
    },
    {
      "cell_type": "code",
      "metadata": {
        "id": "2sivfloGRheM",
        "outputId": "e4bfe4dd-32f1-471c-fcd3-8009bbfc9f7a",
        "colab": {
          "base_uri": "https://localhost:8080/"
        }
      },
      "source": [
        "a =\t{\"a\": \"apple\", \"b\": \"orange\", \"c\": 2014}\n",
        "print(type(a))\n",
        "print(a[\"a\"])"
      ],
      "execution_count": 11,
      "outputs": [
        {
          "output_type": "stream",
          "name": "stdout",
          "text": [
            "<class 'dict'>\n",
            "apple\n"
          ]
        }
      ]
    },
    {
      "cell_type": "markdown",
      "source": [
        "dictionary (변수)\n",
        "\n",
        "{\"key\": }형식으로 작성. \n",
        "샵을 부치는건 comment out 이라함. "
      ],
      "metadata": {
        "id": "sQkGHxbgFvYf"
      }
    }
  ]
}