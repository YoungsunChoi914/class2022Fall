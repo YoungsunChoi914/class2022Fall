{
  "nbformat": 4,
  "nbformat_minor": 0,
  "metadata": {
    "colab": {
      "name": "packages.ipynb",
      "provenance": [],
      "include_colab_link": true
    },
    "kernelspec": {
      "name": "python3",
      "display_name": "Python 3"
    },
    "language_info": {
      "name": "python"
    }
  },
  "cells": [
    {
      "cell_type": "markdown",
      "metadata": {
        "id": "view-in-github",
        "colab_type": "text"
      },
      "source": [
        "<a href=\"https://colab.research.google.com/github/YoungsunChoi914/class2022Fall/blob/main/packages.ipynb\" target=\"_parent\"><img src=\"https://colab.research.google.com/assets/colab-badge.svg\" alt=\"Open In Colab\"/></a>"
      ]
    },
    {
      "cell_type": "code",
      "execution_count": null,
      "metadata": {
        "id": "yUr2PYRXCHJT"
      },
      "outputs": [],
      "source": [
        "import numpy \n",
        "import pandas\n",
        "import matplotlib\n",
        "import seaborn\n",
        "import sklearn\n",
        "import requests\n",
        "import urllib3\n",
        "import nltk\n",
        "import PIL\n",
        "import pytest\n",
        "import librosa"
      ]
    },
    {
      "cell_type": "markdown",
      "source": [
        "여러가지 package\n",
        "\n",
        "젤 많이 쓰이는건 pandas\n",
        "\n",
        "패키지는 불러와야 쓸수 있음.\n",
        " \n",
        "import '패키지'라고 불러올 수 있음. "
      ],
      "metadata": {
        "id": "mZIvtvaqZ8xQ"
      }
    }
  ]
}