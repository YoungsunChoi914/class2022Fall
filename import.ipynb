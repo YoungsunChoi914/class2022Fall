{
  "nbformat": 4,
  "nbformat_minor": 0,
  "metadata": {
    "colab": {
      "name": "import.ipynb",
      "provenance": [],
      "include_colab_link": true
    },
    "kernelspec": {
      "name": "python3",
      "display_name": "Python 3"
    },
    "language_info": {
      "name": "python"
    }
  },
  "cells": [
    {
      "cell_type": "markdown",
      "metadata": {
        "id": "view-in-github",
        "colab_type": "text"
      },
      "source": [
        "<a href=\"https://colab.research.google.com/github/YoungsunChoi914/class2022Fall/blob/main/import.ipynb\" target=\"_parent\"><img src=\"https://colab.research.google.com/assets/colab-badge.svg\" alt=\"Open In Colab\"/></a>"
      ]
    },
    {
      "cell_type": "code",
      "metadata": {
        "id": "JXicrkYOzPRo",
        "outputId": "c2986ff4-c3ff-4359-c6c7-deea9123254d",
        "colab": {
          "base_uri": "https://localhost:8080/"
        }
      },
      "source": [
        "import numpy as np\n",
        "n = np.random.randn(100)\n",
        "n"
      ],
      "execution_count": 1,
      "outputs": [
        {
          "output_type": "execute_result",
          "data": {
            "text/plain": [
              "array([ 0.22441411, -0.9964985 , -0.27392792,  1.73516706, -0.39139058,\n",
              "        0.78463186, -0.01765907,  0.27764768, -0.30724361,  0.1716822 ,\n",
              "       -0.75643053, -0.09575178,  0.78840849, -0.51652322, -0.4770447 ,\n",
              "       -0.72255475, -2.19847603, -0.13864356,  0.44050771, -1.61973597,\n",
              "       -1.10063692,  0.62084888, -0.06131995, -0.31424106,  0.33738898,\n",
              "        1.54047318, -0.31670769,  0.36725954, -1.19867688, -1.64767688,\n",
              "        1.14437059,  0.85591975,  0.3762912 , -0.02108711, -0.96170837,\n",
              "        1.19461725, -1.18871513, -0.55676632, -0.18492011, -0.48325089,\n",
              "        1.20123926,  0.34257768, -0.6920444 ,  0.31459857,  0.53801892,\n",
              "       -1.12955454,  0.57712052,  0.11210496, -0.11638574,  1.23523538,\n",
              "       -0.87824495, -0.6207712 ,  0.52011509,  1.36163175, -1.30637036,\n",
              "       -1.59148737,  0.09044525, -0.42670188, -0.10921808, -0.80974562,\n",
              "        1.17317114,  1.98456466,  0.47926489,  0.76413099,  0.10962117,\n",
              "        0.9940318 , -0.95640503,  0.33576204,  1.12624448,  0.65032702,\n",
              "        0.2921824 ,  0.12057998, -0.4573707 , -0.11162651,  0.59994892,\n",
              "        1.43399967,  1.40677364,  0.82713982,  0.89833615,  1.65042951,\n",
              "        1.00466473,  1.02665453, -2.39342302,  0.81718992, -1.70877873,\n",
              "       -0.79766503,  2.11441673,  0.2645829 ,  0.23191057,  0.9357443 ,\n",
              "       -0.74338036, -0.45960172,  0.22700806,  0.17872607,  0.37036869,\n",
              "       -0.13328375,  2.828138  , -0.79849667, -0.82307822, -0.56702867])"
            ]
          },
          "metadata": {},
          "execution_count": 1
        }
      ]
    },
    {
      "cell_type": "markdown",
      "source": [
        "numpy: 수치적인것, 행렬 다루는 패키지. np로 줄여서 얘기하겠다\n",
        "\n",
        "np라는 패키지 안에 있는, random(패키지 안의 폴더라고 생각), 안의 randn( ) function\n",
        "\n",
        "100개의 random number을 만들어줌. 아무 숫자나 만들지는 않고, 0을 평균으로 하고 sd가 1이 되는 randomnumber들을 만듦. "
      ],
      "metadata": {
        "id": "ASb2CYV-Tle4"
      }
    },
    {
      "cell_type": "code",
      "metadata": {
        "id": "oKT4vn4MwyLA",
        "colab": {
          "base_uri": "https://localhost:8080/",
          "height": 358
        },
        "outputId": "052df6e4-6994-4493-d821-c7aad041e510"
      },
      "source": [
        "import matplotlib\n",
        "matplotlib.pyplot.hist(n)"
      ],
      "execution_count": 2,
      "outputs": [
        {
          "output_type": "execute_result",
          "data": {
            "text/plain": [
              "(array([ 2.,  4.,  9., 21., 17., 21., 17.,  6.,  2.,  1.]),\n",
              " array([-2.39342302, -1.87126692, -1.34911082, -0.82695471, -0.30479861,\n",
              "         0.21735749,  0.73951359,  1.2616697 ,  1.7838258 ,  2.3059819 ,\n",
              "         2.828138  ]),\n",
              " <a list of 10 Patch objects>)"
            ]
          },
          "metadata": {},
          "execution_count": 2
        },
        {
          "output_type": "display_data",
          "data": {
            "text/plain": [
              "<Figure size 432x288 with 1 Axes>"
            ],
            "image/png": "[encoded data removed]"
          },
          "metadata": {
            "needs_background": "light"
          }
        }
      ]
    },
    {
      "cell_type": "markdown",
      "source": [
        "matplotlib 시각화 하여plot 만들어주는 패키지\n",
        "\n",
        "히스토그램을 만들어줌. 한칸을 bin이라 한다. \n",
        "\n",
        "y축은 number of occurences \n",
        "\n",
        "위에서 100개가 아니고 1000개.. 그 이상으로 설정하면서 더 정규분포에 가까운 모양이 나옴"
      ],
      "metadata": {
        "id": "eXfgZiU6WIPP"
      }
    },
    {
      "cell_type": "code",
      "metadata": {
        "colab": {
          "base_uri": "https://localhost:8080/",
          "height": 358
        },
        "id": "zQJ4LnbA-Hvz",
        "outputId": "ce49e1dd-ef19-4577-f972-efd6a8cce056"
      },
      "source": [
        "import matplotlib.pyplot\n",
        "matplotlib.pyplot.hist(n)"
      ],
      "execution_count": 3,
      "outputs": [
        {
          "output_type": "execute_result",
          "data": {
            "text/plain": [
              "(array([ 2.,  4.,  9., 21., 17., 21., 17.,  6.,  2.,  1.]),\n",
              " array([-2.39342302, -1.87126692, -1.34911082, -0.82695471, -0.30479861,\n",
              "         0.21735749,  0.73951359,  1.2616697 ,  1.7838258 ,  2.3059819 ,\n",
              "         2.828138  ]),\n",
              " <a list of 10 Patch objects>)"
            ]
          },
          "metadata": {},
          "execution_count": 3
        },
        {
          "output_type": "display_data",
          "data": {
            "text/plain": [
              "<Figure size 432x288 with 1 Axes>"
            ],
            "image/png": "[encoded data removed]"
          },
          "metadata": {
            "needs_background": "light"
          }
        }
      ]
    },
    {
      "cell_type": "markdown",
      "source": [
        "패키지 속의 서브 폴더만 불러와도 됨. \n",
        "\n",
        "그래도 히스토그램 함수 쓸 때는 앞에서부터 다 적어줘야 함. \n",
        "\n"
      ],
      "metadata": {
        "id": "aEdgMhKCbwzx"
      }
    },
    {
      "cell_type": "code",
      "metadata": {
        "id": "AWU6awi53c07",
        "outputId": "fd985769-fb09-47f6-fa69-57f14e50f8fa",
        "colab": {
          "base_uri": "https://localhost:8080/",
          "height": 358
        }
      },
      "source": [
        "import matplotlib.pyplot as plt\n",
        "plt.hist(n)"
      ],
      "execution_count": 4,
      "outputs": [
        {
          "output_type": "execute_result",
          "data": {
            "text/plain": [
              "(array([ 2.,  4.,  9., 21., 17., 21., 17.,  6.,  2.,  1.]),\n",
              " array([-2.39342302, -1.87126692, -1.34911082, -0.82695471, -0.30479861,\n",
              "         0.21735749,  0.73951359,  1.2616697 ,  1.7838258 ,  2.3059819 ,\n",
              "         2.828138  ]),\n",
              " <a list of 10 Patch objects>)"
            ]
          },
          "metadata": {},
          "execution_count": 4
        },
        {
          "output_type": "display_data",
          "data": {
            "text/plain": [
              "<Figure size 432x288 with 1 Axes>"
            ],
            "image/png": "[encoded data removed]"
          },
          "metadata": {
            "needs_background": "light"
          }
        }
      ]
    },
    {
      "cell_type": "markdown",
      "source": [
        "아예 pyplot 까지를 plt로 줄여서 갖고 와도 됨. 가장 흔하게 쓰는 방식"
      ],
      "metadata": {
        "id": "gFEIma7Ub6Xq"
      }
    },
    {
      "cell_type": "markdown",
      "source": [
        "## from import를 쓰면 import as처럼 축약해서 부를 수 있는 효과"
      ],
      "metadata": {
        "id": "v1zA2xRWzpdu"
      }
    },
    {
      "cell_type": "code",
      "metadata": {
        "colab": {
          "base_uri": "https://localhost:8080/",
          "height": 358
        },
        "id": "moIjn3Kv-Hqy",
        "outputId": "23e301eb-d67c-46af-f143-9204ab45ccb5"
      },
      "source": [
        "from matplotlib import pyplot\n",
        "pyplot.hist(n)"
      ],
      "execution_count": 5,
      "outputs": [
        {
          "output_type": "execute_result",
          "data": {
            "text/plain": [
              "(array([ 2.,  4.,  9., 21., 17., 21., 17.,  6.,  2.,  1.]),\n",
              " array([-2.39342302, -1.87126692, -1.34911082, -0.82695471, -0.30479861,\n",
              "         0.21735749,  0.73951359,  1.2616697 ,  1.7838258 ,  2.3059819 ,\n",
              "         2.828138  ]),\n",
              " <a list of 10 Patch objects>)"
            ]
          },
          "metadata": {},
          "execution_count": 5
        },
        {
          "output_type": "display_data",
          "data": {
            "text/plain": [
              "<Figure size 432x288 with 1 Axes>"
            ],
            "image/png": "[encoded data removed]"
          },
          "metadata": {
            "needs_background": "light"
          }
        }
      ]
    },
    {
      "cell_type": "markdown",
      "source": [
        "matplotlib에서 pyplot만 불러옴. 이렇게 쓰면 hist쓸 때도 pyplot부터만 써도 된다. "
      ],
      "metadata": {
        "id": "ojQ-OlqxcBwg"
      }
    },
    {
      "cell_type": "code",
      "metadata": {
        "colab": {
          "base_uri": "https://localhost:8080/",
          "height": 358
        },
        "id": "ORo259i7_Uqi",
        "outputId": "30d0524f-2270-427a-fb33-675f34ea6d5a"
      },
      "source": [
        "from matplotlib.pyplot import hist\n",
        "hist(n)"
      ],
      "execution_count": 6,
      "outputs": [
        {
          "output_type": "execute_result",
          "data": {
            "text/plain": [
              "(array([ 2.,  4.,  9., 21., 17., 21., 17.,  6.,  2.,  1.]),\n",
              " array([-2.39342302, -1.87126692, -1.34911082, -0.82695471, -0.30479861,\n",
              "         0.21735749,  0.73951359,  1.2616697 ,  1.7838258 ,  2.3059819 ,\n",
              "         2.828138  ]),\n",
              " <a list of 10 Patch objects>)"
            ]
          },
          "metadata": {},
          "execution_count": 6
        },
        {
          "output_type": "display_data",
          "data": {
            "text/plain": [
              "<Figure size 432x288 with 1 Axes>"
            ],
            "image/png": "[encoded data removed]"
          },
          "metadata": {
            "needs_background": "light"
          }
        }
      ]
    },
    {
      "cell_type": "markdown",
      "source": [
        "이렇게 하면 아예 hist만 적어도 됨. "
      ],
      "metadata": {
        "id": "WqqSA6t3cSnk"
      }
    }
  ]
}