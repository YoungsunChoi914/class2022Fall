{
  "nbformat": 4,
  "nbformat_minor": 0,
  "metadata": {
    "colab": {
      "name": "import.ipynb",
      "provenance": [],
      "include_colab_link": true
    },
    "kernelspec": {
      "name": "python3",
      "display_name": "Python 3"
    },
    "language_info": {
      "name": "python"
    }
  },
  "cells": [
    {
      "cell_type": "markdown",
      "metadata": {
        "id": "view-in-github",
        "colab_type": "text"
      },
      "source": [
        "<a href=\"https://colab.research.google.com/github/YoungsunChoi914/class2022Fall/blob/main/import.ipynb\" target=\"_parent\"><img src=\"https://colab.research.google.com/assets/colab-badge.svg\" alt=\"Open In Colab\"/></a>"
      ]
    },
    {
      "cell_type": "code",
      "metadata": {
        "id": "JXicrkYOzPRo",
        "outputId": "a4ff0092-d95a-4e4d-8652-1054d7f09bd5",
        "colab": {
          "base_uri": "https://localhost:8080/"
        }
      },
      "source": [
        "import numpy as np\n",
        "n = np.random.randn(100)\n",
        "n"
      ],
      "execution_count": 1,
      "outputs": [
        {
          "output_type": "execute_result",
          "data": {
            "text/plain": [
              "array([ 1.17226674,  0.36842969, -0.66650341, -0.08231402,  0.53937788,\n",
              "        0.92385584,  0.22967063, -0.14270094,  1.02135068, -0.48297759,\n",
              "        1.57274277,  0.61473052, -0.23194503, -0.79220151, -1.28454472,\n",
              "       -1.31985214,  1.23679327, -0.28319396, -1.2237912 ,  0.4967764 ,\n",
              "        0.51277275, -0.75487128, -0.92708177,  1.13421667,  1.21963295,\n",
              "        0.80765601, -0.10888558,  0.76603114, -0.11831012, -0.24858104,\n",
              "       -0.37977961, -0.59613368,  0.93555721,  0.50267482, -1.33134055,\n",
              "        0.611265  , -0.07367402, -0.37006955, -0.67244742, -0.00401175,\n",
              "       -1.70237552,  0.82159735, -1.7911038 ,  1.51417708, -0.36478854,\n",
              "       -0.13123719,  0.19064831,  0.74435791,  0.60604303,  0.45562492,\n",
              "       -0.94337486, -0.26117972, -0.55342251, -0.01899915, -0.85890915,\n",
              "       -1.13990021,  1.55708369,  0.3542123 , -0.03404152, -1.07915841,\n",
              "        0.28931586,  0.34682175,  1.20916051, -0.66880439, -1.2041489 ,\n",
              "        1.31046817,  0.12626551, -0.47648525,  1.95516105, -0.91187112,\n",
              "       -0.0429794 , -0.70249919,  0.5969845 , -0.38204318, -0.5559184 ,\n",
              "        0.83608066,  1.59040991, -1.32858443,  0.6620711 , -0.31294461,\n",
              "       -0.33827189, -0.83122372, -0.6672467 ,  1.34576319,  1.29504267,\n",
              "       -1.90806817,  0.16272448, -0.24650176,  0.74527911, -0.10399627,\n",
              "        1.54475579, -1.45359928, -0.40043392,  0.64451393, -0.45361582,\n",
              "        0.02075257,  1.56250367,  1.25509913, -0.90934317,  0.62519378])"
            ]
          },
          "metadata": {},
          "execution_count": 1
        }
      ]
    },
    {
      "cell_type": "markdown",
      "source": [
        "numpy: 수치적인것, 행렬 다루는 패키지. np로 줄여서 얘기하겠다\n",
        "\n",
        "np라는 패키지 안에 있는, random(패키지 않은 폴더라고 생각), 안의 randn( )\n",
        "\n",
        "100개의 random number을 만들어줌. 아무 숫자나 만들질는 않고, 0을 평균으로 하고 sd가 1이 되는 randomnumber들을 만듦. "
      ],
      "metadata": {
        "id": "ASb2CYV-Tle4"
      }
    },
    {
      "cell_type": "code",
      "metadata": {
        "id": "oKT4vn4MwyLA",
        "colab": {
          "base_uri": "https://localhost:8080/",
          "height": 350
        },
        "outputId": "2b0aeb6e-b426-450b-964c-4374a09dfeb0"
      },
      "source": [
        "import matplotlib\n",
        "matplotlib.pyplot.hist(n)"
      ],
      "execution_count": null,
      "outputs": [
        {
          "output_type": "execute_result",
          "data": {
            "text/plain": [
              "(array([ 3.,  4.,  9., 11., 26., 19., 16., 10.,  1.,  1.]),\n",
              " array([-2.51307585, -1.99199295, -1.47091005, -0.94982715, -0.42874425,\n",
              "         0.09233865,  0.61342155,  1.13450445,  1.65558734,  2.17667024,\n",
              "         2.69775314]),\n",
              " <a list of 10 Patch objects>)"
            ]
          },
          "metadata": {},
          "execution_count": 8
        },
        {
          "output_type": "display_data",
          "data": {
            "image/png": "[encoded data removed]",
            "text/plain": [
              "<Figure size 432x288 with 1 Axes>"
            ]
          },
          "metadata": {
            "needs_background": "light"
          }
        }
      ]
    },
    {
      "cell_type": "markdown",
      "source": [
        "matplotlib 시각화 하여plot 만들어주는 패키지\n",
        "\n",
        "위에서 100개가 아니고 1000개.. 그 이상으로 설정하면서 더 정규분포에 가까운 모양이 나옴"
      ],
      "metadata": {
        "id": "eXfgZiU6WIPP"
      }
    },
    {
      "cell_type": "code",
      "metadata": {
        "colab": {
          "base_uri": "https://localhost:8080/",
          "height": 358
        },
        "id": "zQJ4LnbA-Hvz",
        "outputId": "0586c9a3-85bd-4de2-9f74-e6112a452ab6"
      },
      "source": [
        "import matplotlib.pyplot\n",
        "matplotlib.pyplot.hist(n)"
      ],
      "execution_count": 2,
      "outputs": [
        {
          "output_type": "execute_result",
          "data": {
            "text/plain": [
              "(array([ 3.,  8.,  9., 16., 19.,  8., 15.,  8., 11.,  3.]),\n",
              " array([-1.90806817, -1.52174525, -1.13542233, -0.74909941, -0.36277649,\n",
              "         0.02354644,  0.40986936,  0.79619228,  1.1825152 ,  1.56883813,\n",
              "         1.95516105]),\n",
              " <a list of 10 Patch objects>)"
            ]
          },
          "metadata": {},
          "execution_count": 2
        },
        {
          "output_type": "display_data",
          "data": {
            "text/plain": [
              "<Figure size 432x288 with 1 Axes>"
            ],
            "image/png": "[encoded data removed]"
          },
          "metadata": {
            "needs_background": "light"
          }
        }
      ]
    },
    {
      "cell_type": "code",
      "metadata": {
        "id": "AWU6awi53c07",
        "outputId": "9b49fb47-6bac-4887-8815-e5ed130f6c56",
        "colab": {
          "base_uri": "https://localhost:8080/",
          "height": 350
        }
      },
      "source": [
        "import matplotlib.pyplot as plt\n",
        "plt.hist(n)"
      ],
      "execution_count": null,
      "outputs": [
        {
          "output_type": "execute_result",
          "data": {
            "text/plain": [
              "(array([ 4.,  4.,  4.,  8., 19., 21., 16., 13.,  6.,  5.]),\n",
              " array([-2.54804234, -2.0585933 , -1.56914426, -1.07969522, -0.59024618,\n",
              "        -0.10079714,  0.3886519 ,  0.87810094,  1.36754998,  1.85699902,\n",
              "         2.34644806]),\n",
              " <a list of 10 Patch objects>)"
            ]
          },
          "metadata": {},
          "execution_count": 5
        },
        {
          "output_type": "display_data",
          "data": {
            "image/png": "[encoded data removed]",
            "text/plain": [
              "<Figure size 432x288 with 1 Axes>"
            ]
          },
          "metadata": {
            "needs_background": "light"
          }
        }
      ]
    },
    {
      "cell_type": "markdown",
      "source": [
        "## from import를 쓰면 import as처럼 축약해서 부를 수 있는 효과"
      ],
      "metadata": {
        "id": "v1zA2xRWzpdu"
      }
    },
    {
      "cell_type": "code",
      "metadata": {
        "colab": {
          "base_uri": "https://localhost:8080/",
          "height": 350
        },
        "id": "moIjn3Kv-Hqy",
        "outputId": "4b1e3880-1576-4b63-b4d0-192704221a8d"
      },
      "source": [
        "from matplotlib import pyplot\n",
        "pyplot.hist(n)"
      ],
      "execution_count": null,
      "outputs": [
        {
          "output_type": "execute_result",
          "data": {
            "text/plain": [
              "(array([ 3.,  4.,  9., 11., 26., 19., 16., 10.,  1.,  1.]),\n",
              " array([-2.51307585, -1.99199295, -1.47091005, -0.94982715, -0.42874425,\n",
              "         0.09233865,  0.61342155,  1.13450445,  1.65558734,  2.17667024,\n",
              "         2.69775314]),\n",
              " <a list of 10 Patch objects>)"
            ]
          },
          "metadata": {},
          "execution_count": 11
        },
        {
          "output_type": "display_data",
          "data": {
            "image/png": "[encoded data removed]",
            "text/plain": [
              "<Figure size 432x288 with 1 Axes>"
            ]
          },
          "metadata": {
            "needs_background": "light"
          }
        }
      ]
    },
    {
      "cell_type": "code",
      "metadata": {
        "colab": {
          "base_uri": "https://localhost:8080/",
          "height": 350
        },
        "id": "ORo259i7_Uqi",
        "outputId": "8faa9ebd-66ff-4f86-e588-f114023e649d"
      },
      "source": [
        "from matplotlib.pyplot import hist\n",
        "hist(n)"
      ],
      "execution_count": null,
      "outputs": [
        {
          "output_type": "execute_result",
          "data": {
            "text/plain": [
              "(array([ 3.,  4.,  9., 11., 26., 19., 16., 10.,  1.,  1.]),\n",
              " array([-2.51307585, -1.99199295, -1.47091005, -0.94982715, -0.42874425,\n",
              "         0.09233865,  0.61342155,  1.13450445,  1.65558734,  2.17667024,\n",
              "         2.69775314]),\n",
              " <a list of 10 Patch objects>)"
            ]
          },
          "metadata": {},
          "execution_count": 14
        },
        {
          "output_type": "display_data",
          "data": {
            "image/png": "[encoded data removed]",
            "text/plain": [
              "<Figure size 432x288 with 1 Axes>"
            ]
          },
          "metadata": {
            "needs_background": "light"
          }
        }
      ]
    }
  ]
}